{
 "cells": [
  {
   "cell_type": "markdown",
   "id": "142583e4",
   "metadata": {},
   "source": [
    "## Example RAG \n",
    "with Langchain and ChromaDB"
   ]
  },
  {
   "cell_type": "code",
   "execution_count": 1,
   "id": "d35f9431",
   "metadata": {},
   "outputs": [
    {
     "name": "stderr",
     "output_type": "stream",
     "text": [
      "Created a chunk of size 645, which is longer than the specified 500\n",
      "Created a chunk of size 846, which is longer than the specified 500\n",
      "Created a chunk of size 590, which is longer than the specified 500\n",
      "Created a chunk of size 586, which is longer than the specified 500\n",
      "Created a chunk of size 605, which is longer than the specified 500\n",
      "Created a chunk of size 756, which is longer than the specified 500\n"
     ]
    },
    {
     "data": {
      "text/plain": [
       "[Document(page_content=\"Rafael Nadal Parera[pron 1] (born 3 June 1986) is a Spanish professional tennis player. Nadal has been ranked world No. 1 in singles by the Association of Tennis Professionals (ATP) for 209 weeks, and has finished as the year-end No. 1 five times. Nadal has won 22 Grand Slam men's singles titles, including a record 14 French Open titles. He has won 92 ATP-level singles titles, including 36 Masters titles and an Olympic gold medal, with 63 of these on clay courts. Nadal is one of only two men to complete the Career Golden Slam in singles. [b] His 81 consecutive wins on clay constitute the longest single-surface win streak in the Open Era.\", metadata={'source': 'textdata\\\\rafaelnadal.txt'}),\n",
       " Document(page_content=\"For over a decade, Nadal has led men's tennis along with Roger Federer and Novak Djokovic as the Big Three. [c] At the start of his professional career, Nadal became one of the most successful teenagers in ATP Tour history, reaching the world No. 2 ranking and winning 16 titles before turning 20, including his first French Open and six Masters events. Nadal became the world No. 1 for the first time in 2008 after defeating Federer in a historic Wimbledon final, his first major victory off clay. He followed up his win with an Olympic singles gold at the 2008 Beijing Olympics. After defeating Djokovic in the 2010 US Open final, then-24-year-old Nadal became the youngest man in the Open Era to achieve the Career Grand Slam, and the first man to win majors on three different surfaces (hard, grass, and clay) in the same year (Surface Slam).\", metadata={'source': 'textdata\\\\rafaelnadal.txt'}),\n",
       " Document(page_content=\"After two injury-plagued seasons, Nadal returned to the Tour in 2013, reaching 14 finals, winning two majors and five Masters events including the US Open Series sweep (Summer Slam). He continued his dominance at the French Open, securing six titles, two US Open titles, an Australian Open title, and an Olympic doubles gold at the 2016 Rio Olympics with Marc López. Nadal surpassed his joint-record with Djokovic and Federer for the most Grand Slam men's singles titles at the 2022 Australian Open, and became one of four men in history to complete the double Career Grand Slam in singles.\", metadata={'source': 'textdata\\\\rafaelnadal.txt'}),\n",
       " Document(page_content=\"As a left-handed player, one of Nadal's main strengths is his forehand, which he hits with a high degree of topspin. He also regularly places among the Tour leaders in percentage of return games, return points, and break points won. Nadal has won the Stefan Edberg Sportsmanship Award five times and was the Laureus World Sportsman of the Year in 2011 and 2021. Time named Nadal one of the 100 most influential people in the world in 2022. He is a recipient of the Grand Cross of Royal Order of Sports Merit, Grand Cross of Order of the Second of May, the Grand Cross of Naval Merit, and the Medal of the City of Paris. Representing Spain, he has won two Olympic gold medals, and led the nation to four Davis Cup titles. Nadal has also opened a tennis academy in Mallorca, and is an active philanthropist.\", metadata={'source': 'textdata\\\\rafaelnadal.txt'}),\n",
       " Document(page_content=\"Roger Federer (German pronunciation: [ˈrɔdʒər ˈfeːdərər]; born 8 August 1981) is a Swiss former professional tennis player. Federer was ranked world No. 1 in singles by the Association of Tennis Professionals (ATP) for 310 weeks, including a record 237 consecutive weeks, and finished as the year-end No. 1 five times. He won 103 singles titles on the ATP Tour, the second most of all time, including 20 major men's singles titles (among which a record eight men's singles Wimbledon titles, and an Open Era joint-record five men's singles US Open titles) and six year-end championships.\", metadata={'source': 'textdata\\\\rogerfederer.txt'}),\n",
       " Document(page_content=\"A Wimbledon junior champion in 1998 and former ball boy, Federer won his first major singles title at Wimbledon in 2003 at age 21. [3] Between 2003 and 2009, Federer played in 21 out of 28 major singles finals. He won three of the four majors and the ATP Finals[c] in 2004, 2006, and 2007 as well as five consecutive titles at both Wimbledon and the US Open. He completed the career Grand Slam at the 2009 French Open after three consecutive runner-up finishes to Rafael Nadal, his main rival until 2010. At age 27, he surpassed Pete Sampras's record of 14 major men's singles titles at Wimbledon in 2009.\", metadata={'source': 'textdata\\\\rogerfederer.txt'}),\n",
       " Document(page_content='Federer and Stan Wawrinka led the Switzerland Davis Cup team to their first title in 2014, following their Olympic doubles gold victory at the 2008 Beijing Olympics. Federer also won a silver medal in singles at the 2012 London Olympics, finishing runner-up to Andy Murray. After a half-year hiatus in late 2016 to recover from knee surgery, Federer returned to tennis, winning three more majors over the next two years, including the 2017 Australian Open over Nadal and an eighth singles title at the 2017 Wimbledon Championships. At the 2018 Australian Open, Federer became the first man to win 20 major singles titles and shortly arter the oldest ATP world No. 1 at age 36. In September 2022, he retired from professional tennis following the Laver Cup.', metadata={'source': 'textdata\\\\rogerfederer.txt'}),\n",
       " Document(page_content=\"A versatile all-court player, Federer's grace on the court made him popular among tennis fans. [4][5] Originally lacking self-control as a junior,[6] he transformed his on-court demeanor[7] to become well-liked for his graciousness, winning the Stefan Edberg Sportsmanship Award 13 times. He also won the Laureus World Sportsman of the Year award a record five times. Outside of competition, Federer played an instrumental role in the creation of the Laver Cup team competition. He is also an active philanthropist. He established the Roger Federer Foundation, which targets impoverished children in southern Africa, and has raised funds in part through the Match for Africa exhibition series. By the end of his career, Federer was routinely one of the top-ten highest-paid athletes in any sport, and ranked first among all athletes with $100 million in endorsement income in 2020. [8]\", metadata={'source': 'textdata\\\\rogerfederer.txt'})]"
      ]
     },
     "execution_count": 1,
     "metadata": {},
     "output_type": "execute_result"
    }
   ],
   "source": [
    "from langchain_community.document_loaders import DirectoryLoader\n",
    "from langchain.text_splitter import CharacterTextSplitter\n",
    "\n",
    "# Load text data from a directory\n",
    "loader = DirectoryLoader(\"textdata\", glob=\"**/*.txt\")\n",
    "documents = loader.load()\n",
    "text_splitter = CharacterTextSplitter(chunk_size=500, chunk_overlap=50)\n",
    "chunks = text_splitter.split_documents(documents)\n",
    "chunks"
   ]
  },
  {
   "cell_type": "code",
   "execution_count": 9,
   "id": "72c78ee4",
   "metadata": {},
   "outputs": [
    {
     "name": "stderr",
     "output_type": "stream",
     "text": [
      "Using embedded DuckDB without persistence: data will be transient\n",
      "No embedding_function provided, using default embedding function: SentenceTransformerEmbeddingFunction\n"
     ]
    }
   ],
   "source": [
    "import getpass\n",
    "from langchain.embeddings import HuggingFaceHubEmbeddings\n",
    "from langchain.vectorstores import Chroma\n",
    "\n",
    "# HuggingFace Embeddings\n",
    "api_key = getpass.getpass('HuggingFace API Key:') \n",
    "\n",
    "embeddings = HuggingFaceHubEmbeddings(\n",
    "    huggingfacehub_api_token=api_key,\n",
    "    repo_id=\"sentence-transformers/all-MiniLM-L6-v2\",\n",
    ")\n",
    "\n",
    "# load it into Chroma\n",
    "db = Chroma.from_documents(chunks, embeddings)"
   ]
  },
  {
   "cell_type": "code",
   "execution_count": 3,
   "id": "87b86284",
   "metadata": {},
   "outputs": [
    {
     "data": {
      "text/plain": [
       "[Document(page_content='Federer and Stan Wawrinka led the Switzerland Davis Cup team to their first title in 2014, following their Olympic doubles gold victory at the 2008 Beijing Olympics. Federer also won a silver medal in singles at the 2012 London Olympics, finishing runner-up to Andy Murray. After a half-year hiatus in late 2016 to recover from knee surgery, Federer returned to tennis, winning three more majors over the next two years, including the 2017 Australian Open over Nadal and an eighth singles title at the 2017 Wimbledon Championships. At the 2018 Australian Open, Federer became the first man to win 20 major singles titles and shortly arter the oldest ATP world No. 1 at age 36. In September 2022, he retired from professional tennis following the Laver Cup.', metadata={'source': 'textdata\\\\rogerfederer.txt'}),\n",
       " Document(page_content=\"Roger Federer (German pronunciation: [ˈrɔdʒər ˈfeːdərər]; born 8 August 1981) is a Swiss former professional tennis player. Federer was ranked world No. 1 in singles by the Association of Tennis Professionals (ATP) for 310 weeks, including a record 237 consecutive weeks, and finished as the year-end No. 1 five times. He won 103 singles titles on the ATP Tour, the second most of all time, including 20 major men's singles titles (among which a record eight men's singles Wimbledon titles, and an Open Era joint-record five men's singles US Open titles) and six year-end championships.\", metadata={'source': 'textdata\\\\rogerfederer.txt'})]"
      ]
     },
     "execution_count": 3,
     "metadata": {},
     "output_type": "execute_result"
    }
   ],
   "source": [
    "# Similiarity Search in Chroma\n",
    "query = \"How old is Roger Federer?\"\n",
    "docs = db.similarity_search(query, k=2)\n",
    "docs"
   ]
  },
  {
   "cell_type": "code",
   "execution_count": 4,
   "id": "bc7a01c4",
   "metadata": {},
   "outputs": [
    {
     "name": "stderr",
     "output_type": "stream",
     "text": [
      "c:\\ProgramFiles\\Anaconda3\\envs\\clean_atari\\lib\\site-packages\\langchain_core\\_api\\deprecation.py:117: LangChainDeprecationWarning: The class `langchain_community.llms.huggingface_hub.HuggingFaceHub` was deprecated in langchain-community 0.0.21 and will be removed in 0.2.0. Use HuggingFaceEndpoint instead.\n",
      "  warn_deprecated(\n"
     ]
    }
   ],
   "source": [
    "from langchain.llms import HuggingFaceHub\n",
    "\n",
    "# Load LLM\n",
    "model = HuggingFaceHub(huggingfacehub_api_token=api_key, repo_id=\"mistralai/Mistral-7B-Instruct-v0.1\")"
   ]
  },
  {
   "cell_type": "code",
   "execution_count": 5,
   "id": "820fe1b5",
   "metadata": {},
   "outputs": [
    {
     "name": "stdout",
     "output_type": "stream",
     "text": [
      "input_variables=['context', 'question'] template='Answer the question based only on the following context:\\n{context}\\n\\nQuestion: {question}\\n'\n"
     ]
    }
   ],
   "source": [
    "from langchain.prompts import PromptTemplate\n",
    "\n",
    "# Build prompt template\n",
    "template = \"\"\"Answer the question based only on the following context:\n",
    "{context}\n",
    "\n",
    "Question: {question}\n",
    "\"\"\"\n",
    "\n",
    "prompt = PromptTemplate(template=template, input_variables=[\"context\", \"question\"])\n",
    "\n",
    "print(prompt)"
   ]
  },
  {
   "cell_type": "code",
   "execution_count": 12,
   "id": "e4e31548",
   "metadata": {},
   "outputs": [],
   "source": [
    "from langchain.chains import RetrievalQA\n",
    "\n",
    "# Set chroma as retriever and build chain\n",
    "retriever = db.as_retriever(search_kwargs={\"k\": 2})\n",
    "\n",
    "chain = RetrievalQA.from_chain_type(\n",
    "    llm=model,\n",
    "    retriever=retriever, \n",
    "    chain_type_kwargs = {\"prompt\": prompt})"
   ]
  },
  {
   "cell_type": "code",
   "execution_count": 13,
   "id": "da06ba1f",
   "metadata": {},
   "outputs": [
    {
     "name": "stdout",
     "output_type": "stream",
     "text": [
      "Answer the question based only on the following context:\n",
      "Roger Federer (German pronunciation: [ˈrɔdʒər ˈfeːdərər]; born 8 August 1981) is a Swiss former professional tennis player. Federer was ranked world No. 1 in singles by the Association of Tennis Professionals (ATP) for 310 weeks, including a record 237 consecutive weeks, and finished as the year-end No. 1 five times. He won 103 singles titles on the ATP Tour, the second most of all time, including 20 major men's singles titles (among which a record eight men's singles Wimbledon titles, and an Open Era joint-record five men's singles US Open titles) and six year-end championships.\n",
      "\n",
      "Federer and Stan Wawrinka led the Switzerland Davis Cup team to their first title in 2014, following their Olympic doubles gold victory at the 2008 Beijing Olympics. Federer also won a silver medal in singles at the 2012 London Olympics, finishing runner-up to Andy Murray. After a half-year hiatus in late 2016 to recover from knee surgery, Federer returned to tennis, winning three more majors over the next two years, including the 2017 Australian Open over Nadal and an eighth singles title at the 2017 Wimbledon Championships. At the 2018 Australian Open, Federer became the first man to win 20 major singles titles and shortly arter the oldest ATP world No. 1 at age 36. In September 2022, he retired from professional tennis following the Laver Cup.\n",
      "\n",
      "Question: How many titles did Roger Federer win?\n",
      "\n",
      "Answer: 103\n"
     ]
    }
   ],
   "source": [
    "question = \"How many titles did Roger Federer win?\"\n",
    "answer = chain.run({\"query\": question})\n",
    "print(answer)"
   ]
  },
  {
   "cell_type": "code",
   "execution_count": 14,
   "id": "f1b9e031",
   "metadata": {},
   "outputs": [
    {
     "name": "stdout",
     "output_type": "stream",
     "text": [
      "Answer the question based only on the following context:\n",
      "Federer and Stan Wawrinka led the Switzerland Davis Cup team to their first title in 2014, following their Olympic doubles gold victory at the 2008 Beijing Olympics. Federer also won a silver medal in singles at the 2012 London Olympics, finishing runner-up to Andy Murray. After a half-year hiatus in late 2016 to recover from knee surgery, Federer returned to tennis, winning three more majors over the next two years, including the 2017 Australian Open over Nadal and an eighth singles title at the 2017 Wimbledon Championships. At the 2018 Australian Open, Federer became the first man to win 20 major singles titles and shortly arter the oldest ATP world No. 1 at age 36. In September 2022, he retired from professional tennis following the Laver Cup.\n",
      "\n",
      "Roger Federer (German pronunciation: [ˈrɔdʒər ˈfeːdərər]; born 8 August 1981) is a Swiss former professional tennis player. Federer was ranked world No. 1 in singles by the Association of Tennis Professionals (ATP) for 310 weeks, including a record 237 consecutive weeks, and finished as the year-end No. 1 five times. He won 103 singles titles on the ATP Tour, the second most of all time, including 20 major men's singles titles (among which a record eight men's singles Wimbledon titles, and an Open Era joint-record five men's singles US Open titles) and six year-end championships.\n",
      "\n",
      "Question: When whan Roger Federer was born and how old is he?\n",
      "\n",
      "Answer: Roger Federer was born on 8 August 1981. To calculate his current age, subtract his birth year from the current year (2023) and consider whether or not his birthday has already occurred this year.\n"
     ]
    }
   ],
   "source": [
    "question = \"When whan Roger Federer was born and how old is he?\"\n",
    "answer = chain.run({\"query\": question})\n",
    "print(answer)"
   ]
  },
  {
   "cell_type": "code",
   "execution_count": 18,
   "id": "72f001f9",
   "metadata": {},
   "outputs": [
    {
     "name": "stdout",
     "output_type": "stream",
     "text": [
      "Answer the question based only on the following context:\n",
      "As a left-handed player, one of Nadal's main strengths is his forehand, which he hits with a high degree of topspin. He also regularly places among the Tour leaders in percentage of return games, return points, and break points won. Nadal has won the Stefan Edberg Sportsmanship Award five times and was the Laureus World Sportsman of the Year in 2011 and 2021. Time named Nadal one of the 100 most influential people in the world in 2022. He is a recipient of the Grand Cross of Royal Order of Sports Merit, Grand Cross of Order of the Second of May, the Grand Cross of Naval Merit, and the Medal of the City of Paris. Representing Spain, he has won two Olympic gold medals, and led the nation to four Davis Cup titles. Nadal has also opened a tennis academy in Mallorca, and is an active philanthropist.\n",
      "\n",
      "For over a decade, Nadal has led men's tennis along with Roger Federer and Novak Djokovic as the Big Three. [c] At the start of his professional career, Nadal became one of the most successful teenagers in ATP Tour history, reaching the world No. 2 ranking and winning 16 titles before turning 20, including his first French Open and six Masters events. Nadal became the world No. 1 for the first time in 2008 after defeating Federer in a historic Wimbledon final, his first major victory off clay. He followed up his win with an Olympic singles gold at the 2008 Beijing Olympics. After defeating Djokovic in the 2010 US Open final, then-24-year-old Nadal became the youngest man in the Open Era to achieve the Career Grand Slam, and the first man to win majors on three different surfaces (hard, grass, and clay) in the same year (Surface Slam).\n",
      "\n",
      "Question: Summarize the life of Rafa in 10 words.\n",
      "\n",
      "Answer: Successful tennis player, Olympic gold medalist, philanthropist, academy owner.\n"
     ]
    }
   ],
   "source": [
    "question = \"Summarize the life of Rafa in 10 words.\"\n",
    "answer = chain.run({\"query\": question})\n",
    "print(answer)"
   ]
  },
  {
   "cell_type": "code",
   "execution_count": null,
   "id": "9e5a00e2",
   "metadata": {},
   "outputs": [],
   "source": []
  }
 ],
 "metadata": {
  "kernelspec": {
   "display_name": "Python 3 (ipykernel)",
   "language": "python",
   "name": "python3"
  },
  "language_info": {
   "codemirror_mode": {
    "name": "ipython",
    "version": 3
   },
   "file_extension": ".py",
   "mimetype": "text/x-python",
   "name": "python",
   "nbconvert_exporter": "python",
   "pygments_lexer": "ipython3",
   "version": "3.8.15"
  }
 },
 "nbformat": 4,
 "nbformat_minor": 5
}
